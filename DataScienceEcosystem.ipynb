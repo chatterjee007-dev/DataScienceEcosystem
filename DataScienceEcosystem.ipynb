{
 "cells": [
  {
   "cell_type": "markdown",
   "id": "7892ff1d-2383-4b84-80f5-d48be3088226",
   "metadata": {},
   "source": [
    "# Data Science Tools and Ecosystem\r\n"
   ]
  },
  {
   "cell_type": "markdown",
   "id": "9fb344e9-f582-42a1-b720-dae2c8c7975c",
   "metadata": {},
   "source": [
    "## Introduction\r\n",
    "In this notebook, Data Science Tools and Ecosystem are summarized.\r\n"
   ]
  },
  {
   "cell_type": "markdown",
   "id": "bd70963d-f2af-477c-bc46-4102e35de315",
   "metadata": {},
   "source": [
    "## Data Science Languages\n",
    "Some of the popular languages that Data Scientists use are:\n",
    "1. Python\n",
    "2. R\n",
    "3. SQL\n"
   ]
  },
  {
   "cell_type": "markdown",
   "id": "d18c9f45-c9a7-4e04-8436-b3b7854e8941",
   "metadata": {},
   "source": [
    "## Data Science Libraries\r\n",
    "Some of the commonly used libraries used by Data Scientists include:\r\n",
    "1. NumPy\r\n",
    "2. Pandas\r\n",
    "3. Matplotlib\r\n"
   ]
  },
  {
   "cell_type": "markdown",
   "id": "6d2874b2-c2b4-4cdc-ae3f-71ab021e9e8b",
   "metadata": {},
   "source": [
    "## Data Science Tools\r\n",
    "| Data Science Tools        |\r\n",
    "|---------------------------|\r\n",
    "| Jupyter                   |\r\n",
    "| RStudio                   |\r\n",
    "| Apache Spark              |\r\n"
   ]
  },
  {
   "cell_type": "markdown",
   "id": "194716cb-23f6-4b0f-8da0-bbc69ba9e346",
   "metadata": {},
   "source": [
    "### Below are a few examples of evaluating arithmetic expressions in Python.\r\n"
   ]
  },
  {
   "cell_type": "code",
   "execution_count": 1,
   "id": "09aad4c1-6e97-40b3-b69f-d833dfd93583",
   "metadata": {},
   "outputs": [
    {
     "data": {
      "text/plain": [
       "17"
      ]
     },
     "execution_count": 1,
     "metadata": {},
     "output_type": "execute_result"
    }
   ],
   "source": [
    "# This a simple arithmetic expression to multiply then add integers\n",
    "result = (3 * 4) + 5\n",
    "result"
   ]
  },
  {
   "cell_type": "code",
   "execution_count": 2,
   "id": "70c86841-67c5-4e0b-ab93-28f019649db1",
   "metadata": {},
   "outputs": [
    {
     "data": {
      "text/plain": [
       "3.3333333333333335"
      ]
     },
     "execution_count": 2,
     "metadata": {},
     "output_type": "execute_result"
    }
   ],
   "source": [
    "# This will convert 200 minutes to hours by dividing by 60\n",
    "minutes = 200\n",
    "hours = minutes / 60\n",
    "hours\n"
   ]
  },
  {
   "cell_type": "markdown",
   "id": "3e634559-ee9e-45f4-ae24-da6395d0e41c",
   "metadata": {},
   "source": [
    "## Objectives\n",
    "- List popular languages for Data Science\n",
    "- Explore commonly used libraries in Data Science\n",
    "- Demonstrate basic arithmetic operations\n"
   ]
  },
  {
   "cell_type": "markdown",
   "id": "563f2acf-1e19-41a9-a1e4-d7665f917450",
   "metadata": {},
   "source": [
    "## Author\n",
    "Anindya Chatterjee\n"
   ]
  },
  {
   "cell_type": "code",
   "execution_count": null,
   "id": "76d7ff1e-5303-4a5f-ac1f-0dc89cbafe25",
   "metadata": {},
   "outputs": [],
   "source": []
  }
 ],
 "metadata": {
  "kernelspec": {
   "display_name": "Python 3 (ipykernel)",
   "language": "python",
   "name": "python3"
  },
  "language_info": {
   "codemirror_mode": {
    "name": "ipython",
    "version": 3
   },
   "file_extension": ".py",
   "mimetype": "text/x-python",
   "name": "python",
   "nbconvert_exporter": "python",
   "pygments_lexer": "ipython3",
   "version": "3.11.7"
  }
 },
 "nbformat": 4,
 "nbformat_minor": 5
}
